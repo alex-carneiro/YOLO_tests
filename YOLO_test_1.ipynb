{
  "nbformat": 4,
  "nbformat_minor": 0,
  "metadata": {
    "colab": {
      "name": "YOLO test 1.ipynb",
      "provenance": []
    },
    "kernelspec": {
      "name": "python3",
      "display_name": "Python 3"
    },
    "language_info": {
      "name": "python"
    }
  },
  "cells": [
    {
      "cell_type": "markdown",
      "source": [
        "# Clone and build Darknet"
      ],
      "metadata": {
        "id": "9G01MWl11lkX"
      }
    },
    {
      "cell_type": "code",
      "source": [
        "!git clone https://github.com/pjreddie/darknet; cd darknet; make"
      ],
      "metadata": {
        "id": "1LQiS2x_y27K"
      },
      "execution_count": null,
      "outputs": []
    },
    {
      "cell_type": "markdown",
      "source": [
        "# Download weights and run a test"
      ],
      "metadata": {
        "id": "9uHXvrez1uXX"
      }
    },
    {
      "cell_type": "code",
      "source": [
        "input_filename = 'kite.jpg'\n",
        "\n",
        "!wget https://pjreddie.com/media/files/yolov3.weights\n",
        "!mv yolov3.weights darknet/\n",
        "!cd darknet/; ./darknet detector test cfg/coco.data cfg/yolov3.cfg yolov3.weights data/{input_filename}"
      ],
      "metadata": {
        "id": "Ega6CWWZwZL0"
      },
      "execution_count": null,
      "outputs": []
    },
    {
      "cell_type": "markdown",
      "source": [
        "# Visualize test results"
      ],
      "metadata": {
        "id": "Bx9npUE01zB3"
      }
    },
    {
      "cell_type": "code",
      "source": [
        "import matplotlib.pyplot as plt\n",
        "%matplotlib inline"
      ],
      "metadata": {
        "id": "751GCESyyuIn"
      },
      "execution_count": null,
      "outputs": []
    },
    {
      "cell_type": "code",
      "source": [
        "image_input = plt.imread('darknet/data/' + input_filename)\n",
        "image_output = plt.imread('darknet/predictions.jpg')\n",
        "\n",
        "plt.figure(figsize=(16,12))\n",
        "plt.subplot(1,2,1)\n",
        "plt.title(\"Input image\")\n",
        "plt.imshow(image_input)\n",
        "plt.subplot(1,2,2)\n",
        "plt.title(\"Output image\")\n",
        "plt.imshow(image_output)\n",
        "plt.tight_layout();"
      ],
      "metadata": {
        "id": "hLIf9tI70LXy"
      },
      "execution_count": null,
      "outputs": []
    },
    {
      "cell_type": "code",
      "source": [
        ""
      ],
      "metadata": {
        "id": "NKJeCuu00s-o"
      },
      "execution_count": null,
      "outputs": []
    }
  ]
}