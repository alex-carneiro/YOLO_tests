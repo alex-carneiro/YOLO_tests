{
  "nbformat": 4,
  "nbformat_minor": 0,
  "metadata": {
    "colab": {
      "name": "YOLO test 2.ipynb",
      "provenance": [],
      "collapsed_sections": []
    },
    "kernelspec": {
      "name": "python3",
      "display_name": "Python 3"
    },
    "language_info": {
      "name": "python"
    },
    "accelerator": "GPU"
  },
  "cells": [
    {
      "cell_type": "markdown",
      "source": [
        "#Install YOLOv4"
      ],
      "metadata": {
        "id": "habutsV3MBvz"
      }
    },
    {
      "cell_type": "code",
      "execution_count": null,
      "metadata": {
        "id": "eMox2c-L2qG7"
      },
      "outputs": [],
      "source": [
        "!pip install yolov4"
      ]
    },
    {
      "cell_type": "markdown",
      "source": [
        "#Import YOLOv4 and other library"
      ],
      "metadata": {
        "id": "-lQPt0ChMFDF"
      }
    },
    {
      "cell_type": "code",
      "source": [
        "from yolov4.tf import YOLOv4\n",
        "\n",
        "import matplotlib.pyplot as plt\n",
        "%matplotlib inline"
      ],
      "metadata": {
        "id": "2FuBwD5N3g61"
      },
      "execution_count": null,
      "outputs": []
    },
    {
      "cell_type": "markdown",
      "source": [
        "#Download model and labels files"
      ],
      "metadata": {
        "id": "RpwG15liMM-1"
      }
    },
    {
      "cell_type": "code",
      "source": [
        "!wget https://github.com/AlexeyAB/darknet/releases/download/darknet_yolo_v3_optimal/yolov4.weights\n",
        "!wget https://raw.githubusercontent.com/hhk7734/tensorflow-yolov4/master/config/yolov4.cfg\n",
        "!wget https://raw.githubusercontent.com/hhk7734/tensorflow-yolov4/master/test/dataset/coco.names"
      ],
      "metadata": {
        "id": "KOESsX4833Zl"
      },
      "execution_count": null,
      "outputs": []
    },
    {
      "cell_type": "markdown",
      "source": [
        "#Create model"
      ],
      "metadata": {
        "id": "pUUEJHPzMSTa"
      }
    },
    {
      "cell_type": "code",
      "source": [
        "config_file = 'yolov4.cfg'\n",
        "data_file = 'coco.names'\n",
        "weights = 'yolov4.weights'\n",
        "\n",
        "yolo = YOLOv4()\n",
        "yolo.config.parse_names(data_file)\n",
        "yolo.config.parse_cfg(config_file)\n",
        "yolo.make_model()\n",
        "yolo.load_weights(weights, weights_type=\"yolo\")\n",
        "yolo.summary(summary_type=\"yolo\")\n",
        "yolo.summary()"
      ],
      "metadata": {
        "id": "SDExjjXM4333"
      },
      "execution_count": null,
      "outputs": []
    },
    {
      "cell_type": "markdown",
      "source": [
        "#Download test image"
      ],
      "metadata": {
        "id": "ZfePDXe0MU9e"
      }
    },
    {
      "cell_type": "code",
      "source": [
        "!wget https://raw.githubusercontent.com/pjreddie/darknet/master/data/kite.jpg"
      ],
      "metadata": {
        "id": "euOumxIw5Uac"
      },
      "execution_count": null,
      "outputs": []
    },
    {
      "cell_type": "markdown",
      "source": [
        "#Run a test and visualize results"
      ],
      "metadata": {
        "id": "vGJvGwb3Mam9"
      }
    },
    {
      "cell_type": "code",
      "source": [
        "image_input_path = 'kite.jpg'\n",
        "image_input = plt.imread(image_input_path)\n",
        "\n",
        "bboxes = yolo.predict(image_input, prob_thresh=.5)\n",
        "image_output = yolo.draw_bboxes(image_input, bboxes)\n",
        "\n",
        "plt.figure(figsize=(16,12))\n",
        "plt.subplot(1,2,1)\n",
        "plt.title(\"Input image\")\n",
        "plt.imshow(image_input)\n",
        "plt.subplot(1,2,2)\n",
        "plt.title(\"Output image\")\n",
        "plt.imshow(image_output)\n",
        "plt.tight_layout();"
      ],
      "metadata": {
        "id": "9gWqrZ_H3rR0"
      },
      "execution_count": null,
      "outputs": []
    },
    {
      "cell_type": "code",
      "source": [
        ""
      ],
      "metadata": {
        "id": "8N0nw6MkCSXf"
      },
      "execution_count": null,
      "outputs": []
    }
  ]
}